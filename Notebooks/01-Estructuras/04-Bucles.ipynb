{
 "cells": [
  {
   "cell_type": "markdown",
   "metadata": {},
   "source": [
    "## Bucles en codigo While "
   ]
  },
  {
   "cell_type": "markdown",
   "metadata": {},
   "source": [
    "## Bucles o ciclo infinito"
   ]
  },
  {
   "cell_type": "code",
   "execution_count": null,
   "metadata": {},
   "outputs": [],
   "source": [
    "while True:\n",
    "    print('Estoy trabajabdo en el bucle infinito')"
   ]
  },
  {
   "cell_type": "code",
   "execution_count": null,
   "metadata": {},
   "outputs": [],
   "source": [
    "i=0\n",
    "while i <=10:\n",
    "    print(i+1)\n",
    "# i=1\n",
    "    i+=1"
   ]
  },
  {
   "cell_type": "markdown",
   "metadata": {},
   "source": [
    "## Reto:Realizar un programa utilizando el ciclo anterior, pero  se debe solictar al usurio  el numero de veces que el usurio intoducira valores y deben contar cuantos son pares y cuantos impares "
   ]
  },
  {
   "cell_type": "code",
   "execution_count": 12,
   "metadata": {},
   "outputs": [
    {
     "name": "stdout",
     "output_type": "stream",
     "text": [
      "La cantidad de numero impares es de: 3\n",
      "La cantidad de numero pares es de: 0\n"
     ]
    }
   ],
   "source": [
    "i= 0\n",
    "cnumeros = int(input('cuantos numeros deseas introducir? '))\n",
    "pares = 0\n",
    "imps = 0\n",
    "\n",
    "while i < cnumeros:\n",
    "    num = int(input(\"intruduce un numero\"))\n",
    "    if num%2 == 0:\n",
    "        pares += 1\n",
    "    else: \n",
    "        imps += 1\n",
    "    i+=1\n",
    "\n",
    "print(f'La cantidad de numero impares es de: {imps}')\n",
    "print(f'La cantidad de numero pares es de: {pares}')\n",
    "\n"
   ]
  },
  {
   "cell_type": "code",
   "execution_count": 11,
   "metadata": {},
   "outputs": [
    {
     "name": "stdout",
     "output_type": "stream",
     "text": [
      "La cantidad de numero impares es de: 1\n",
      "La cantidad de numero pares es de: 2\n"
     ]
    }
   ],
   "source": [
    "i= 0\n",
    "cnumeros = int(input('cuantos numeros deseas introducir? '))\n",
    "pares = 0\n",
    "imps = 0\n",
    "num = 0\n",
    "\n",
    "while i < cnumeros:\n",
    "    num = int(input(\"intruduce un numero\"))\n",
    "    if num != -1:\n",
    "        if num%2 == 0:\n",
    "            pares += 1\n",
    "        else: \n",
    "            imps += 1\n",
    "    i+=1\n",
    "\n",
    "print(f'La cantidad de numero impares es de: {imps}')\n",
    "print(f'La cantidad de numero pares es de: {pares}')"
   ]
  },
  {
   "cell_type": "code",
   "execution_count": 13,
   "metadata": {},
   "outputs": [
    {
     "name": "stdout",
     "output_type": "stream",
     "text": [
      "1\n",
      "2\n",
      "3\n",
      "4\n",
      "5\n",
      "6\n",
      "7\n",
      "8\n",
      "9\n",
      "10\n"
     ]
    }
   ],
   "source": [
    "i=1\n",
    "while True:\n",
    "    if(i==10):\n",
    "        print(i)\n",
    "        break\n",
    "    print(i)\n",
    "    i += 1"
   ]
  },
  {
   "cell_type": "code",
   "execution_count": null,
   "metadata": {},
   "outputs": [],
   "source": [
    "continuar = True\n",
    "pares = 0\n",
    "imps = 0\n",
    "\n",
    "while continuar:\n",
    "    num = int(input(\"intruduce un numero\"))\n",
    "    if num%2 == 0:\n",
    "        pares += 1\n",
    "    if num != -1:\n",
    "        (\"El programa ha sido detenido por el usario\")\n",
    "        continuar = False\n",
    "    else: \n",
    "        imps += 1\n",
    "    i+=1\n",
    "\n",
    "print(f'La cantidad de numero impares es de: {imps}')\n",
    "print(f'La cantidad de numero pares es de: {pares}')"
   ]
  },
  {
   "cell_type": "markdown",
   "metadata": {},
   "source": [
    "## Escenario\n",
    "## Un mago junior ha elegido un número secreto. Lo ha escondido en una variable llamada secret_number. Quiere que todos los que ejecutan su programa jueguen el juego Adivina el número secreto, y adivina qué número ha elegido para ellos. ¡Quiénes no adivinen el número quedarán atrapados en un bucle sin fin para siempre! Desafortunadamente, él no sabe cómo completar el código.\n",
    "\n",
    "## Tu tarea es ayudar al mago a completar el código en el editor de tal manera que el código:\n",
    "\n",
    "## pedirá al usuario que ingrese un número entero;\n",
    "## utilizará un bucle while;\n",
    "## comprobará si el número ingresado por el usuario es el mismo que el número escogido por el mago. Si el número elegido por el usuario es diferente al número secreto del mago, el usuario debería ver el mensaje \"¡Ja, ja! ¡Estás atrapado en mi bucle!\" y se le solicitará que ingrese un número nuevamente. Si el número ingresado por el usuario coincide con el número escogido por el mago, el número debe imprimirse en la pantalla, y el mago debe decir las siguientes palabras: \"¡Bien hecho, muggle! Eres libre ahora.\"\n",
    "## ¡El mago está contando contigo! No lo decepciones."
   ]
  },
  {
   "cell_type": "code",
   "execution_count": null,
   "metadata": {},
   "outputs": [],
   "source": [
    "secret_number = 666\n",
    "numero = 0\n",
    "termina = False\n",
    "while termina:\n",
    "    numero = int(input('Ingresa un numero: '))\n",
    "    if numero == secret_number:\n",
    "        print('\"¡Bien hecho, muggle! Eres libre ahora.\"')\n",
    "        termina = True\n",
    "    else:\n",
    "        print(\"¡Ja, ja! ¡Estás atrapado en mi bucle!\")\n"
   ]
  },
  {
   "cell_type": "markdown",
   "metadata": {},
   "source": [
    "# Bucles en tu código con for\n",
    "\n",
    "Otro tipo de bucle disponible en Python proviene de la observación de que a veces es más importante contar los \"giros o vueltas\" del bucle que verificar las condiciones.\n",
    "```python\n",
    "for i in range(100):\n",
    "    # do_something()\n",
    "    pass"
   ]
  },
  {
   "cell_type": "code",
   "execution_count": null,
   "metadata": {},
   "outputs": [],
   "source": [
    "import time\n",
    "\n",
    "# Escribe un bucle for que cuente hasta cinco.\n",
    "    # Cuerpo del bucle: imprime el número de iteración del bucle y la palabra \"Mississippi\".\n",
    "    # Cuerpo del bucle, emplea : time.sleep(1)\n",
    "\n",
    "# Escribe una función print con el mensaje final.\n",
    "\n"
   ]
  }
 ],
 "metadata": {
  "kernelspec": {
   "display_name": "Python 3",
   "language": "python",
   "name": "python3"
  },
  "language_info": {
   "codemirror_mode": {
    "name": "ipython",
    "version": 3
   },
   "file_extension": ".py",
   "mimetype": "text/x-python",
   "name": "python",
   "nbconvert_exporter": "python",
   "pygments_lexer": "ipython3",
   "version": "3.12.3"
  }
 },
 "nbformat": 4,
 "nbformat_minor": 2
}
