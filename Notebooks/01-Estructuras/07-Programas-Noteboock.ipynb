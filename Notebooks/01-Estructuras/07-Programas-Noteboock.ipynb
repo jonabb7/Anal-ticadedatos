{
 "cells": [
  {
   "cell_type": "markdown",
   "metadata": {},
   "source": [
    "# Diccionarios\n",
    "\n",
    "El diccionario es otro tipo de estructura de datos de Python. No es una secuencia (pero puede adaptarse fácilmente a un procesamiento secuencial) y además es mutable.\n",
    "\n",
    "Para explicar lo que es un diccionario en Python, es importante comprender de manera literal lo que es un diccionario."
   ]
  },
  {
   "cell_type": "markdown",
   "metadata": {},
   "source": [
    "## ¿Cómo crear un diccionario?\n",
    "\n",
    "Si deseas asignar algunos pares iniciales a un diccionario, utiliza la siguiente sintaxis:"
   ]
  },
  {
   "cell_type": "code",
   "execution_count": 1,
   "metadata": {},
   "outputs": [
    {
     "name": "stdout",
     "output_type": "stream",
     "text": [
      "{'gato': 'Morris', 'perro': 'Firulais', 'caballo': 'Sindi'}\n",
      "{'jefe': 553455676, 'Suzy': '135425214'}\n",
      "{}\n"
     ]
    }
   ],
   "source": [
    "diccionario = { \"gato\": \"Morris\", \"perro\": \"Firulais\", \"caballo\": \"Sindi\" }\n",
    "telefonos = { 'jefe': 553455676, 'Suzy': '135425214'}\n",
    "diccionario_vacio = {}\n",
    "\n",
    "\n",
    "print(diccionario)\n",
    "print(telefonos)\n",
    "print(diccionario_vacio)"
   ]
  },
  {
   "cell_type": "markdown",
   "metadata": {},
   "source": [
    "## ¿Cómo Utilizar un Diccionario"
   ]
  },
  {
   "cell_type": "code",
   "execution_count": 2,
   "metadata": {},
   "outputs": [],
   "source": [
    "diccionario = { \"gato\": \"Morris\", \"perro\": \"Firulais\", \"caballo\": \"Sindi\" }\n",
    "telefonos = { 'jefe': 553455676, 'Suzy': '135425214'}"
   ]
  },
  {
   "cell_type": "code",
   "execution_count": 1,
   "metadata": {},
   "outputs": [
    {
     "ename": "NameError",
     "evalue": "name 'diccionario' is not defined",
     "output_type": "error",
     "traceback": [
      "\u001b[1;31m---------------------------------------------------------------------------\u001b[0m",
      "\u001b[1;31mNameError\u001b[0m                                 Traceback (most recent call last)",
      "Cell \u001b[1;32mIn[1], line 1\u001b[0m\n\u001b[1;32m----> 1\u001b[0m \u001b[38;5;28mprint\u001b[39m(\u001b[43mdiccionario\u001b[49m[\u001b[38;5;124m\"\u001b[39m\u001b[38;5;124mgato\u001b[39m\u001b[38;5;124m\"\u001b[39m])\n\u001b[0;32m      2\u001b[0m \u001b[38;5;28mprint\u001b[39m(telefonos[\u001b[38;5;124m'\u001b[39m\u001b[38;5;124mSuzy\u001b[39m\u001b[38;5;124m'\u001b[39m])\n",
      "\u001b[1;31mNameError\u001b[0m: name 'diccionario' is not defined"
     ]
    }
   ],
   "source": [
    "print(diccionario[\"gato\"])\n",
    "print(telefonos['Suzy'])"
   ]
  },
  {
   "cell_type": "code",
   "execution_count": 2,
   "metadata": {},
   "outputs": [
    {
     "name": "stdout",
     "output_type": "stream",
     "text": [
      "gato No esta en el diccionario\n",
      "leon No esta en el diccionario\n",
      "caballo->chencha\n"
     ]
    }
   ],
   "source": [
    "diccionary = {\"cat\": \"gato\", \"perro\": \"chiem\", \"caballo\": \"chencha\"}\n",
    "words = {'gato', 'leon', 'caballo'}\n",
    "\n",
    "for word in words:\n",
    "    if word in diccionary:\n",
    "        print(word + \"->\" + diccionary[word])\n",
    "    else:\n",
    "        print(word, \"No esta en el diccionario\")"
   ]
  },
  {
   "cell_type": "markdown",
   "metadata": {},
   "source": [
    "# Metodos y funciones de los diccionarios"
   ]
  },
  {
   "cell_type": "markdown",
   "metadata": {},
   "source": [
    "### El método keys()\n",
    "\n",
    "¿Pueden los diccionarios ser examinados utilizando el bucle for, como las listas o tuplas?\n",
    "\n",
    "No y si.\n",
    "\n",
    "No, porque un diccionario no es un tipo de dato secuencial - el bucle for no es útil aquí.\n",
    "\n",
    "Si, porque hay herramientas simples y muy efectivas que pueden adaptar cualquier diccionario a los requerimientos del bucle for (en otras palabras, se construye un enlace intermedio entre el diccionario y una entidad secuencial temporal).\n",
    "\n",
    "El primero de ellos es un método denominado keys(), el cual es parte de todo diccionario. El método retorna o regresa una lista de todas las claves dentro del diccionario. Al tener una lista de claves se puede acceder a todo el diccionario de una manera fácil y útil.\n",
    "\n",
    "A continuación se muestra un ejemplo:"
   ]
  },
  {
   "cell_type": "code",
   "execution_count": null,
   "metadata": {},
   "outputs": [],
   "source": [
    "diccionary = {\"gato\": \"chat\", \"perro\": \"Cain\", \"caballo\": \"Chencha\"}\n",
    "for key in diccionary.keys():\n",
    "    print(key, '->', diccionary[key])"
   ]
  },
  {
   "cell_type": "markdown",
   "metadata": {},
   "source": [
    "Otra manera de hacerlo es utilizar el método items(). Este método retorna una lista de tuplas (este es el primer ejemplo en el que las tuplas son mas que un ejemplo de si mismas) donde cada tupla es un par de cada clave con su valor.\n",
    "\n",
    "Así es como funciona:\n"
   ]
  },
  {
   "cell_type": "code",
   "execution_count": 4,
   "metadata": {},
   "outputs": [
    {
     "name": "stdout",
     "output_type": "stream",
     "text": [
      "gato -> chat\n",
      "perro -> Cain\n",
      "caballo -> Chencha\n",
      "burro -> Filemon\n"
     ]
    }
   ],
   "source": [
    "dicti = {\"gato\": \"chat\", \"perro\": \"Cain\", \"caballo\": \"Chencha\", \"burro\": \"Filemon\"}\n",
    "for key, valor in dicti. items():\n",
    "    print (key, \"->\",valor)"
   ]
  },
  {
   "cell_type": "markdown",
   "metadata": {},
   "source": [
    "### Modificar, agregar y eliminar valores\n",
    "\n",
    "El asignar un nuevo valor a una clave existente es sencillo - debido a que los diccionarios son completamente mutables, no existen obstáculos para modificarlos.\n",
    "\n",
    "Se va a reemplazar el valor \"chat\" por \"minou\", lo cual no es muy adecuado, pero funcionará con nuestro ejemplo.\n",
    "\n",
    "Observa:"
   ]
  },
  {
   "cell_type": "code",
   "execution_count": 5,
   "metadata": {},
   "outputs": [
    {
     "name": "stdout",
     "output_type": "stream",
     "text": [
      "{'gato': 'morris', 'perro': 'Cain', 'caballo': 'Chencha', 'burro': 'Filemon'}\n"
     ]
    }
   ],
   "source": [
    "##Cambiar el valor de una clave en un diccionario\n",
    "dicti = {\"gato\": \"chat\", \"perro\": \"Cain\", \"caballo\": \"Chencha\", \"burro\": \"Filemon\"}\n",
    "dicti[\"gato\"]= \"morris\"\n",
    "print(dicti)"
   ]
  },
  {
   "cell_type": "markdown",
   "metadata": {},
   "source": [
    "### La función sorted()\n",
    "\n",
    "¿Deseas que la salida este ordenada? Solo hay que agregar al bucle for lo siguiente:"
   ]
  },
  {
   "cell_type": "code",
   "execution_count": 6,
   "metadata": {},
   "outputs": [
    {
     "name": "stdout",
     "output_type": "stream",
     "text": [
      "[1, 3, 4, 5, 6, 23]\n"
     ]
    }
   ],
   "source": [
    "# ordenar una lista\n",
    "lista = [4,5,1,23,6,3]\n",
    "lista_ordenados = sorted(lista)\n",
    "print(lista_ordenados)"
   ]
  },
  {
   "cell_type": "code",
   "execution_count": 8,
   "metadata": {},
   "outputs": [
    {
     "name": "stdout",
     "output_type": "stream",
     "text": [
      "[23, 6, 5, 4, 3, 1]\n"
     ]
    }
   ],
   "source": [
    "# ordenar lista de forma descedente\n",
    "lista = [4,5,1,23,6,3]\n",
    "lista_ordenados = sorted(lista, reverse=True)\n",
    "print(lista_ordenados)"
   ]
  },
  {
   "cell_type": "code",
   "execution_count": 12,
   "metadata": {},
   "outputs": [
    {
     "name": "stdout",
     "output_type": "stream",
     "text": [
      "Diccionario ordenado por claves  {'cat': 'gato', 'dog': 'perro', 'fhose': 'Caballo', 'fish': 'pez'}\n"
     ]
    }
   ],
   "source": [
    "## Ordena por clave pero ordena el key por el value, de forma ascendente\n",
    "dict_nuevo ={\n",
    "    \"cat\": \"gato\",\n",
    "    \"dog\": \"perro\",\n",
    "    \"horse\": \"Caballo\",\n",
    "    \"fish\": \"pez\"\n",
    "}\n",
    "\n",
    "diccionario_ordenado_claves = dict(sorted(dict_nuevo.items(),reverse = False))\n",
    "\n",
    "print(\"Diccionario ordenado por claves \", diccionario_ordenado_claves)"
   ]
  },
  {
   "cell_type": "code",
   "execution_count": 14,
   "metadata": {},
   "outputs": [
    {
     "name": "stdout",
     "output_type": "stream",
     "text": [
      "Dicionario ordenado por clave ['cat', 'dog', 'fhose', 'fish']\n"
     ]
    }
   ],
   "source": [
    "# ordenar por clave , pero solo muestra las claves y se ordena de forma ascedente\n",
    "claves_ordenas= sorted(dict_nuevo.keys(),reverse= False)\n",
    "print (\"Dicionario ordenado por clave\", claves_ordenas)"
   ]
  },
  {
   "cell_type": "code",
   "execution_count": 13,
   "metadata": {},
   "outputs": [
    {
     "name": "stdout",
     "output_type": "stream",
     "text": [
      "Dicionario ordenado por clave ['fish', 'fhose', 'dog', 'cat']\n"
     ]
    }
   ],
   "source": [
    "# ordenar por clave , pero solo muestra las claves y se ordena de forma descedente\n",
    "\n",
    "claves_ordenas= sorted(dict_nuevo.keys(),reverse= True)\n",
    "print (\"Dicionario ordenado por clave\", claves_ordenas)"
   ]
  },
  {
   "cell_type": "markdown",
   "metadata": {},
   "source": [
    "### Agregando nuevas claves\n",
    "\n",
    "El agregar una nueva clave con su valor a un diccionario es tan simple como cambiar un valor. Solo se tiene que asignar un valor a una nueva clave que no haya existido antes.\n",
    "\n",
    "Nota: este es un comportamiento muy diferente comparado a las listas, las cuales no permiten asignar valores a índices no existentes.\n",
    "\n",
    "A continuación se agrega un par nuevo al diccionario - un poco extraño pero válido:"
   ]
  },
  {
   "cell_type": "code",
   "execution_count": 17,
   "metadata": {},
   "outputs": [
    {
     "name": "stdout",
     "output_type": "stream",
     "text": [
      "{'cat': 'gato', 'dog': 'perro', 'horse': 'Caballo', 'fish': 'pez', 'pig': 'chencho'}\n"
     ]
    }
   ],
   "source": [
    "dict_nuevo_spain ={\n",
    "    \"cat\": \"gato\",\n",
    "    \"dog\": \"perro\",\n",
    "    \"horse\": \"Caballo\",\n",
    "    \"fish\": \"pez\",\n",
    "}\n",
    "\n",
    "dict_nuevo_spain['pig'] = 'chencho'\n",
    "print(dict_nuevo_spain)"
   ]
  },
  {
   "cell_type": "markdown",
   "metadata": {},
   "source": [
    "<span style=\"background-color: orange; border-radius: 5px; padding: 2px 2px; color:white;\">Nota</span>\n",
    "\n",
    "También es posible insertar un elemento al diccionario utilizando el método update(), por ejemplo:"
   ]
  },
  {
   "cell_type": "code",
   "execution_count": 18,
   "metadata": {},
   "outputs": [
    {
     "name": "stdout",
     "output_type": "stream",
     "text": [
      "{'cat': 'gato', 'dog': 'perro', 'horse': 'Caballo', 'fish': 'pez', 'pig': 'chencho', 'turkey': 'Totol'}\n"
     ]
    }
   ],
   "source": [
    "dict_nuevo_spain.update({'turkey': 'Totol'})\n",
    "print(dict_nuevo_spain)"
   ]
  },
  {
   "cell_type": "markdown",
   "metadata": {},
   "source": [
    "### Eliminado una clave\n",
    "\n",
    "¿Puedes deducir como eliminar una clave de un diccionario?\n",
    "\n",
    "Nota: al eliminar la clave también se removerá el valor asociado. Los valores no pueden existir sin sus claves.\n",
    "\n",
    "Esto se logra con la instrucción del.\n",
    "\n",
    "A continuación un ejemplo:"
   ]
  },
  {
   "cell_type": "code",
   "execution_count": 19,
   "metadata": {},
   "outputs": [
    {
     "name": "stdout",
     "output_type": "stream",
     "text": [
      "{'cat': 'gato', 'dog': 'perro', 'horse': 'Caballo'}\n"
     ]
    }
   ],
   "source": [
    "dict_nuevo_spain ={\n",
    "    \"cat\": \"gato\",\n",
    "    \"dog\": \"perro\",\n",
    "    \"horse\": \"Caballo\",\n",
    "    \"fish\": \"pez\",\n",
    "}\n",
    "\n",
    "del dict_nuevo_spain['fish']\n",
    "print(dict_nuevo_spain)"
   ]
  },
  {
   "cell_type": "markdown",
   "metadata": {},
   "source": [
    "Para eliminar el ultimo elemento de la lista, se puede emplear el método popitem()"
   ]
  },
  {
   "cell_type": "code",
   "execution_count": 21,
   "metadata": {},
   "outputs": [
    {
     "name": "stdout",
     "output_type": "stream",
     "text": [
      "{'cat': 'gato', 'dog': 'perro', 'horse': 'Caballo'}\n"
     ]
    }
   ],
   "source": [
    "dict_nuevo_spain ={\n",
    "    \"cat\": \"gato\",\n",
    "    \"dog\": \"perro\",\n",
    "    \"horse\": \"Caballo\",\n",
    "    \"fish\": \"pez\",\n",
    "}\n",
    "\n",
    "dict_nuevo_spain.popitem()\n",
    "print( dict_nuevo_spain)\n"
   ]
  }
 ],
 "metadata": {
  "kernelspec": {
   "display_name": "Python 3",
   "language": "python",
   "name": "python3"
  },
  "language_info": {
   "codemirror_mode": {
    "name": "ipython",
    "version": 3
   },
   "file_extension": ".py",
   "mimetype": "text/x-python",
   "name": "python",
   "nbconvert_exporter": "python",
   "pygments_lexer": "ipython3",
   "version": "3.12.3"
  }
 },
 "nbformat": 4,
 "nbformat_minor": 2
}
