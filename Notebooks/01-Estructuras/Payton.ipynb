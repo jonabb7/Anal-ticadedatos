{
  "nbformat": 4,
  "nbformat_minor": 0,
  "metadata": {
    "colab": {
      "provenance": []
    },
    "kernelspec": {
      "name": "python3",
      "display_name": "Python 3"
    },
    "language_info": {
      "name": "python"
    }
  },
  "cells": [
    {
      "cell_type": "code",
      "execution_count": null,
      "metadata": {
        "colab": {
          "base_uri": "https://localhost:8080/"
        },
        "id": "JiMmuoH_yPth",
        "outputId": "f89a7f63-56a9-45bc-8dd9-64b36a479d90"
      },
      "outputs": [
        {
          "output_type": "stream",
          "name": "stdout",
          "text": [
            "Hello world\n"
          ]
        }
      ],
      "source": [
        "print (\"Hello world\")"
      ]
    },
    {
      "cell_type": "markdown",
      "source": [
        "##Opreciones Aritmeticas"
      ],
      "metadata": {
        "id": "qaJPAee_zY8Y"
      }
    },
    {
      "cell_type": "markdown",
      "source": [
        "#Suma"
      ],
      "metadata": {
        "id": "cV9N_2gxzw7H"
      }
    },
    {
      "cell_type": "code",
      "source": [
        "5+5 #Suma de literales"
      ],
      "metadata": {
        "colab": {
          "base_uri": "https://localhost:8080/"
        },
        "id": "duBG36LKz4GK",
        "outputId": "350ba52b-e88b-4574-ab47-e1a7f5aaf812"
      },
      "execution_count": null,
      "outputs": [
        {
          "output_type": "execute_result",
          "data": {
            "text/plain": [
              "10"
            ]
          },
          "metadata": {},
          "execution_count": 3
        }
      ]
    },
    {
      "cell_type": "markdown",
      "source": [
        "#Resta"
      ],
      "metadata": {
        "id": "hyoTDEZi0rwS"
      }
    },
    {
      "cell_type": "code",
      "source": [
        "10 - 2 #"
      ],
      "metadata": {
        "colab": {
          "base_uri": "https://localhost:8080/"
        },
        "id": "v6OEUokh0hCC",
        "outputId": "7798f88f-b7f7-491b-e9bc-6dcc5edb2df5"
      },
      "execution_count": null,
      "outputs": [
        {
          "output_type": "execute_result",
          "data": {
            "text/plain": [
              "8"
            ]
          },
          "metadata": {},
          "execution_count": 4
        }
      ]
    },
    {
      "cell_type": "markdown",
      "source": [
        "#Multiplicacion"
      ],
      "metadata": {
        "id": "25sRd6AD0wEQ"
      }
    },
    {
      "cell_type": "code",
      "source": [
        "5*5"
      ],
      "metadata": {
        "colab": {
          "base_uri": "https://localhost:8080/"
        },
        "id": "RZ_gCFvt02cu",
        "outputId": "435048a3-018f-4484-91f2-d51769f646f5"
      },
      "execution_count": null,
      "outputs": [
        {
          "output_type": "execute_result",
          "data": {
            "text/plain": [
              "25"
            ]
          },
          "metadata": {},
          "execution_count": 5
        }
      ]
    },
    {
      "cell_type": "markdown",
      "source": [
        "#Potencia"
      ],
      "metadata": {
        "id": "4HkwKhxI06yC"
      }
    },
    {
      "cell_type": "code",
      "source": [
        "5**5"
      ],
      "metadata": {
        "colab": {
          "base_uri": "https://localhost:8080/"
        },
        "id": "V1ctwhe31B9H",
        "outputId": "0addb2e2-a58e-478d-9d56-a7a9a42b0f46"
      },
      "execution_count": null,
      "outputs": [
        {
          "output_type": "execute_result",
          "data": {
            "text/plain": [
              "3125"
            ]
          },
          "metadata": {},
          "execution_count": 7
        }
      ]
    },
    {
      "cell_type": "markdown",
      "source": [
        "#Division"
      ],
      "metadata": {
        "id": "kDRoJY2z1M_3"
      }
    },
    {
      "cell_type": "code",
      "source": [
        "2 / 7"
      ],
      "metadata": {
        "colab": {
          "base_uri": "https://localhost:8080/"
        },
        "id": "QA50Sl3T1PZ5",
        "outputId": "5f490938-cef3-4062-93e0-a0d662c3c173"
      },
      "execution_count": null,
      "outputs": [
        {
          "output_type": "execute_result",
          "data": {
            "text/plain": [
              "0.2857142857142857"
            ]
          },
          "metadata": {},
          "execution_count": 8
        }
      ]
    },
    {
      "cell_type": "code",
      "source": [
        "1 // 2 #Entera"
      ],
      "metadata": {
        "id": "QQjrc7em1f6l"
      },
      "execution_count": null,
      "outputs": []
    },
    {
      "cell_type": "markdown",
      "source": [
        "#Modulo"
      ],
      "metadata": {
        "id": "fu4dV1F616KH"
      }
    },
    {
      "cell_type": "code",
      "source": [
        "10 % 2"
      ],
      "metadata": {
        "id": "3xb6WdDo1-7B"
      },
      "execution_count": null,
      "outputs": []
    },
    {
      "cell_type": "markdown",
      "source": [
        "# Tipos de datos y variables"
      ],
      "metadata": {
        "id": "_tA6DxnG2P6A"
      }
    },
    {
      "cell_type": "code",
      "source": [
        "# Variabl entera\n",
        "numero1 =10\n",
        "type (numero1)"
      ],
      "metadata": {
        "id": "YhWbKwnn20ab",
        "colab": {
          "base_uri": "https://localhost:8080/"
        },
        "outputId": "d1599dac-eaa5-4e51-95d5-e39fcbf7c2c9"
      },
      "execution_count": 12,
      "outputs": [
        {
          "output_type": "execute_result",
          "data": {
            "text/plain": [
              "int"
            ]
          },
          "metadata": {},
          "execution_count": 12
        }
      ]
    },
    {
      "cell_type": "code",
      "source": [
        "numero2 =20\n",
        "resultado = numero1 + numero2\n",
        "resultado"
      ],
      "metadata": {
        "id": "87LoKyzi3JOy",
        "colab": {
          "base_uri": "https://localhost:8080/"
        },
        "outputId": "ce7e7462-604a-46b5-b4be-afbda42d58bd"
      },
      "execution_count": 14,
      "outputs": [
        {
          "output_type": "execute_result",
          "data": {
            "text/plain": [
              "30"
            ]
          },
          "metadata": {},
          "execution_count": 14
        }
      ]
    },
    {
      "cell_type": "code",
      "source": [
        "# Flotantes\n",
        "numero1 = 45.6\n",
        "type (numero1)"
      ],
      "metadata": {
        "id": "_ym2Q5A63ixK",
        "colab": {
          "base_uri": "https://localhost:8080/"
        },
        "outputId": "4a1e1e8b-5fc0-4188-a955-feeeb6a383b5"
      },
      "execution_count": 15,
      "outputs": [
        {
          "output_type": "execute_result",
          "data": {
            "text/plain": [
              "float"
            ]
          },
          "metadata": {},
          "execution_count": 15
        }
      ]
    },
    {
      "cell_type": "code",
      "source": [
        "print(\"El resultado es:\", resultado)"
      ],
      "metadata": {
        "id": "VDK_Mq3137QT",
        "colab": {
          "base_uri": "https://localhost:8080/"
        },
        "outputId": "4c2868b6-0269-4401-842b-4202af1f73a5"
      },
      "execution_count": 16,
      "outputs": [
        {
          "output_type": "stream",
          "name": "stdout",
          "text": [
            "El resultado es: 30\n"
          ]
        }
      ]
    },
    {
      "cell_type": "code",
      "source": [
        "print (\"Hola como estas 'TDA'\")"
      ],
      "metadata": {
        "id": "pIMgvG7z5mHm",
        "colab": {
          "base_uri": "https://localhost:8080/"
        },
        "outputId": "a30115fa-fc9c-4064-8818-e0c378740117"
      },
      "execution_count": 10,
      "outputs": [
        {
          "output_type": "stream",
          "name": "stdout",
          "text": [
            "Hola como estas 'TDA'\n"
          ]
        }
      ]
    },
    {
      "cell_type": "code",
      "source": [
        "valor = int (input ('Intruduce el valor:'))"
      ],
      "metadata": {
        "colab": {
          "base_uri": "https://localhost:8080/"
        },
        "id": "t9yz3Q5x7xMq",
        "outputId": "655df1ea-5b22-4dd2-c5c5-ac43881c1779"
      },
      "execution_count": 17,
      "outputs": [
        {
          "name": "stdout",
          "output_type": "stream",
          "text": [
            "Intruduce el valor:10\n"
          ]
        }
      ]
    },
    {
      "cell_type": "code",
      "source": [
        "#Numeros boleanos\n",
        "valor = True\n",
        "valor"
      ],
      "metadata": {
        "colab": {
          "base_uri": "https://localhost:8080/"
        },
        "id": "FxaY3g8S8Lg1",
        "outputId": "01fba2b6-61b2-494c-f02d-2694edcc1a79"
      },
      "execution_count": 18,
      "outputs": [
        {
          "output_type": "execute_result",
          "data": {
            "text/plain": [
              "True"
            ]
          },
          "metadata": {},
          "execution_count": 18
        }
      ]
    },
    {
      "cell_type": "code",
      "source": [
        "type (valor)"
      ],
      "metadata": {
        "colab": {
          "base_uri": "https://localhost:8080/"
        },
        "id": "GP1vzHHB8XQ6",
        "outputId": "d48cbe7f-a16e-4320-966e-17435258009f"
      },
      "execution_count": 19,
      "outputs": [
        {
          "output_type": "execute_result",
          "data": {
            "text/plain": [
              "bool"
            ]
          },
          "metadata": {},
          "execution_count": 19
        }
      ]
    },
    {
      "cell_type": "code",
      "source": [
        "saludo = 'Hola'\n",
        "saludo"
      ],
      "metadata": {
        "colab": {
          "base_uri": "https://localhost:8080/",
          "height": 36
        },
        "id": "MaLqNDj28llu",
        "outputId": "f735de71-c84a-472e-8c90-54dcbe73ba91"
      },
      "execution_count": 22,
      "outputs": [
        {
          "output_type": "execute_result",
          "data": {
            "text/plain": [
              "'Hola'"
            ],
            "application/vnd.google.colaboratory.intrinsic+json": {
              "type": "string"
            }
          },
          "metadata": {},
          "execution_count": 22
        }
      ]
    },
    {
      "cell_type": "code",
      "source": [
        "print(saludo, 'Como estas', sep = '******')"
      ],
      "metadata": {
        "colab": {
          "base_uri": "https://localhost:8080/"
        },
        "id": "cBZQuwmI8uv7",
        "outputId": "b2a80335-3554-402e-b337-237186f3c458"
      },
      "execution_count": 24,
      "outputs": [
        {
          "output_type": "stream",
          "name": "stdout",
          "text": [
            "Hola******Como estas\n"
          ]
        }
      ]
    },
    {
      "cell_type": "markdown",
      "source": [
        "# Prioridades de los operadores"
      ],
      "metadata": {
        "id": "eO2T7fm29gYS"
      }
    },
    {
      "cell_type": "code",
      "source": [
        "for i in (10): print ('Mi prioridad es el estudio ')\n"
      ],
      "metadata": {
        "colab": {
          "base_uri": "https://localhost:8080/",
          "height": 141
        },
        "id": "zzUK8s3X9pHE",
        "outputId": "3a78a48a-c60d-44a2-9d2e-01d2479a4c71"
      },
      "execution_count": 27,
      "outputs": [
        {
          "output_type": "error",
          "ename": "TypeError",
          "evalue": "'int' object is not iterable",
          "traceback": [
            "\u001b[0;31m---------------------------------------------------------------------------\u001b[0m",
            "\u001b[0;31mTypeError\u001b[0m                                 Traceback (most recent call last)",
            "\u001b[0;32m<ipython-input-27-80125c61cad9>\u001b[0m in \u001b[0;36m<cell line: 1>\u001b[0;34m()\u001b[0m\n\u001b[0;32m----> 1\u001b[0;31m \u001b[0;32mfor\u001b[0m \u001b[0mi\u001b[0m \u001b[0;32min\u001b[0m \u001b[0;34m(\u001b[0m\u001b[0;36m10\u001b[0m\u001b[0;34m)\u001b[0m\u001b[0;34m:\u001b[0m \u001b[0mprint\u001b[0m \u001b[0;34m(\u001b[0m\u001b[0;34m'Mi prioridad es el estudio '\u001b[0m\u001b[0;34m)\u001b[0m\u001b[0;34m\u001b[0m\u001b[0;34m\u001b[0m\u001b[0m\n\u001b[0m",
            "\u001b[0;31mTypeError\u001b[0m: 'int' object is not iterable"
          ]
        }
      ]
    },
    {
      "cell_type": "code",
      "source": [
        "1/ 2*3"
      ],
      "metadata": {
        "colab": {
          "base_uri": "https://localhost:8080/"
        },
        "id": "FJB27OSK-eHP",
        "outputId": "e8c9cd90-508b-45c3-91f5-63b83eac1de2"
      },
      "execution_count": 28,
      "outputs": [
        {
          "output_type": "execute_result",
          "data": {
            "text/plain": [
              "1.5"
            ]
          },
          "metadata": {},
          "execution_count": 28
        }
      ]
    },
    {
      "cell_type": "code",
      "source": [
        "1 // 2*3"
      ],
      "metadata": {
        "id": "oECYxAed-_kE"
      },
      "execution_count": null,
      "outputs": []
    },
    {
      "cell_type": "markdown",
      "source": [
        "#Operadores Relacionales"
      ],
      "metadata": {
        "id": "GLgqaCBt_lQE"
      }
    },
    {
      "cell_type": "code",
      "source": [
        "variable  = 10.2\n",
        "variable2 = variable == 10.2\n",
        "variable2"
      ],
      "metadata": {
        "id": "cEqulZmv_pcd"
      },
      "execution_count": null,
      "outputs": []
    },
    {
      "cell_type": "code",
      "source": [
        "type(variable2)"
      ],
      "metadata": {
        "id": "XWgNBbJmAFlg"
      },
      "execution_count": null,
      "outputs": []
    }
  ]
}