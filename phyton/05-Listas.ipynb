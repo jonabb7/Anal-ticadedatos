{
 "cells": [
  {
   "cell_type": "markdown",
   "metadata": {},
   "source": [
    "# Listas"
   ]
  },
  {
   "cell_type": "code",
   "execution_count": 1,
   "metadata": {},
   "outputs": [
    {
     "name": "stdout",
     "output_type": "stream",
     "text": [
      "Mi primer lista en python es:[10, True, 14, 25, 'HOLA', 12]\n",
      "El valor de la posicion 0 es:10\n",
      "El valor de la posicision 4 es:HOLA\n"
     ]
    }
   ],
   "source": [
    "x=[10,True,14,25,'HOLA',3*4]\n",
    "print(f\"Mi primer lista en python es:{x}\")\n",
    "print(f\"El valor de la posicion 0 es:{x[0]}\")\n",
    "print(f'El valor de la posicision 4 es:{x[4]}')"
   ]
  },
  {
   "cell_type": "markdown",
   "metadata": {},
   "source": [
    "## Acceso al Contenido de las listas"
   ]
  },
  {
   "cell_type": "code",
   "execution_count": 3,
   "metadata": {},
   "outputs": [
    {
     "data": {
      "text/plain": [
       "[3, 5, 7, 2, 111]"
      ]
     },
     "execution_count": 3,
     "metadata": {},
     "output_type": "execute_result"
    }
   ],
   "source": [
    "numbers= [3,5,7,2,111]\n",
    "numbers"
   ]
  },
  {
   "cell_type": "markdown",
   "metadata": {},
   "source": [
    "## Listas en Accion\n",
    "Imagina que necesitas reorganizar los elementos de una lista, es decir, revertir el orden de los elementos: el primero y el quinto, así como el segundo y cuarto elementos serán intercambiados. El tercero permanecerá intacto.\n",
    "\n",
    "Pregunta: ¿cómo se pueden intercambiar los valores de dos variables?\n",
    "\n",
    "Echa un vistazo al fragmento:\n",
    "\n",
    "```python\n",
    "variable_1 = 1\n",
    "variable_2 = 2\n",
    "\n",
    "variable_2 = variable_1\n",
    "variable_1 = variable_2\n",
    "```\n",
    "\n",
    "Si haces algo como esto, perderás el valor previamente almacenado en variable_2. Cambiar el orden de las tareas no ayudará. Necesitas una tercera variable que sirva como almacenamiento auxiliar."
   ]
  },
  {
   "cell_type": "code",
   "execution_count": 4,
   "metadata": {},
   "outputs": [
    {
     "name": "stdout",
     "output_type": "stream",
     "text": [
      "1 1\n"
     ]
    }
   ],
   "source": [
    "variable1 = 1\n",
    "variable2 = 2\n",
    "\n",
    "variable2 = variable1\n",
    "variable1 = variable2\n",
    "\n",
    "print(variable1, variable2)"
   ]
  },
  {
   "cell_type": "code",
   "execution_count": 5,
   "metadata": {},
   "outputs": [
    {
     "name": "stdout",
     "output_type": "stream",
     "text": [
      "2 1\n"
     ]
    }
   ],
   "source": [
    "variable1 = 1\n",
    "variable2 = 2\n",
    "\n",
    "aux = variable2\n",
    "variable2 = variable1\n",
    "variable1 = aux\n",
    "\n",
    "print(variable1, variable2)"
   ]
  },
  {
   "cell_type": "code",
   "execution_count": 6,
   "metadata": {},
   "outputs": [
    {
     "name": "stdout",
     "output_type": "stream",
     "text": [
      "2 1\n"
     ]
    }
   ],
   "source": [
    "variable1 = 1\n",
    "variable2 = 2\n",
    "\n",
    "variable2, variable1 = variable1,variable2\n",
    "print(variable1, variable2)"
   ]
  },
  {
   "cell_type": "markdown",
   "metadata": {},
   "source": [
    "# Revertir el Orden de la lista"
   ]
  },
  {
   "cell_type": "code",
   "execution_count": 12,
   "metadata": {},
   "outputs": [
    {
     "name": "stdout",
     "output_type": "stream",
     "text": [
      "lista otignal [10, 1, 8, 3, 5]\n",
      "lista modificada [5, 3, 8, 1, 10]\n"
     ]
    }
   ],
   "source": [
    "mylist = [10,1,8,3,5]\n",
    "print(f'lista otignal', mylist)\n",
    "\n",
    "mylist[0],mylist[1],mylist[3],mylist[4] = mylist[4],mylist[3],mylist[1],mylist[0]\n",
    "print(f'lista modificada', mylist) "
   ]
  },
  {
   "cell_type": "markdown",
   "metadata": {},
   "source": [
    "## LAB   Los fundamentos de las listas: los Beatles\n",
    "\n",
    "\n",
    "\n",
    "Los Beatles fueron uno de los grupos de música más populares de la década de 1960 y la banda más vendida en la historia. Algunas personas los consideran el acto más influyente de la era del rock. De hecho, se incluyeron en la compilación de la revista Time de las 100 personas más influyentes del siglo XX.\n",
    "\n",
    "La banda sufrió muchos cambios de formación, que culminaron en 1962 con la formación de John Lennon, Paul McCartney, George Harrison y Richard Starkey (mejor conocido como Ringo Starr).\n",
    "\n",
    "\n",
    "Escribe un programa que refleje estos cambios y le permita practicar con el concepto de listas. Tu tarea es:\n",
    "\n",
    "- paso 1: crea una lista vacía llamada beatles;\n",
    "- paso 2: emplea el método append() para agregar los siguientes miembros de la banda a la lista: John Lennon, Paul McCartney y George Harrison;\n",
    "- paso 3: emplea el buclefor y el append() para pedirle al usuario que agregue los siguientes miembros de la banda a la lista: Stu Sutcliffe, y Pete Best;\n",
    "- paso 4: usa la instrucción del para eliminar a Stu Sutcliffe y Pete Best de la lista;\n",
    "- paso 5: usa el método insert() para agregar a Ringo Starr al principio de la lista.\n",
    "\n",
    "Por cierto, ¿eres fan de los Beatles? (Los Beatles son una de las bandas favoritas de Greg. Pero espera...¿Quién es Greg?)"
   ]
  },
  {
   "cell_type": "code",
   "execution_count": 20,
   "metadata": {},
   "outputs": [
    {
     "name": "stdout",
     "output_type": "stream",
     "text": [
      "[]\n",
      "['John Lennon', 'Paul McCartney', 'George Harrison']\n",
      "['John Lennon', 'Paul McCartney', 'George Harrison', 'Stuu wawa', 'Pete Best']\n",
      "['John Lennon', 'Paul McCartney', 'George Harrison']\n",
      "['Ringo Starr', 'John Lennon', 'Paul McCartney', 'George Harrison']\n"
     ]
    }
   ],
   "source": [
    "# paso 1 la lista \n",
    "beatles = []\n",
    "print(beatles)\n",
    "#paso 2: append para agregar a miembros\n",
    "beatles.append('John Lennon')\n",
    "beatles.append('Paul McCartney')\n",
    "beatles.append('George Harrison')\n",
    "print(beatles)\n",
    "#Paso 3 bucle con for\n",
    "for i in range(2):\n",
    "    nombre = input('Introduce el nombre de Stu')\n",
    "    beatles.append(nombre)\n",
    "\n",
    "print(beatles)\n",
    "# Paso 4 despedir gente:\n",
    "del beatles [-2]\n",
    "del beatles [-1]\n",
    "print(beatles)\n",
    "\n",
    "# paso 5 contrataciones\n",
    "beatles.insert(0, 'Ringo Starr')\n",
    "print(beatles)\n",
    "    \n"
   ]
  }
 ],
 "metadata": {
  "kernelspec": {
   "display_name": "Python 3",
   "language": "python",
   "name": "python3"
  },
  "language_info": {
   "codemirror_mode": {
    "name": "ipython",
    "version": 3
   },
   "file_extension": ".py",
   "mimetype": "text/x-python",
   "name": "python",
   "nbconvert_exporter": "python",
   "pygments_lexer": "ipython3",
   "version": "3.12.3"
  }
 },
 "nbformat": 4,
 "nbformat_minor": 2
}
